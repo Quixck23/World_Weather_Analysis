{
 "cells": [
  {
   "cell_type": "code",
   "execution_count": 1,
   "id": "72b02ea8",
   "metadata": {},
   "outputs": [],
   "source": [
    "# Import the dependencies.\n",
    "import pandas as pd\n",
    "import gmaps\n",
    "import gmaps.datasets\n",
    "import requests\n",
    "# Import the API key.\n",
    "from config import g_key\n",
    "%matplotlib inline"
   ]
  },
  {
   "cell_type": "code",
   "execution_count": 2,
   "id": "b9a76fc8",
   "metadata": {},
   "outputs": [
    {
     "data": {
      "text/html": [
       "<div>\n",
       "<style scoped>\n",
       "    .dataframe tbody tr th:only-of-type {\n",
       "        vertical-align: middle;\n",
       "    }\n",
       "\n",
       "    .dataframe tbody tr th {\n",
       "        vertical-align: top;\n",
       "    }\n",
       "\n",
       "    .dataframe thead th {\n",
       "        text-align: right;\n",
       "    }\n",
       "</style>\n",
       "<table border=\"1\" class=\"dataframe\">\n",
       "  <thead>\n",
       "    <tr style=\"text-align: right;\">\n",
       "      <th></th>\n",
       "      <th>City_ID</th>\n",
       "      <th>City</th>\n",
       "      <th>Lat</th>\n",
       "      <th>Lng</th>\n",
       "      <th>Max Temp</th>\n",
       "      <th>Humidity</th>\n",
       "      <th>Cloudiness</th>\n",
       "      <th>Wind Speed</th>\n",
       "      <th>Country</th>\n",
       "      <th>Date</th>\n",
       "    </tr>\n",
       "  </thead>\n",
       "  <tbody>\n",
       "    <tr>\n",
       "      <th>0</th>\n",
       "      <td>0</td>\n",
       "      <td>Zhigansk</td>\n",
       "      <td>66.7697</td>\n",
       "      <td>123.3711</td>\n",
       "      <td>-7.53</td>\n",
       "      <td>100</td>\n",
       "      <td>95</td>\n",
       "      <td>9.69</td>\n",
       "      <td>RU</td>\n",
       "      <td>2021-11-11 01:54:12</td>\n",
       "    </tr>\n",
       "    <tr>\n",
       "      <th>1</th>\n",
       "      <td>1</td>\n",
       "      <td>Mount Gambier</td>\n",
       "      <td>-37.8333</td>\n",
       "      <td>140.7667</td>\n",
       "      <td>60.71</td>\n",
       "      <td>63</td>\n",
       "      <td>90</td>\n",
       "      <td>17.27</td>\n",
       "      <td>AU</td>\n",
       "      <td>2021-11-11 01:54:12</td>\n",
       "    </tr>\n",
       "    <tr>\n",
       "      <th>2</th>\n",
       "      <td>2</td>\n",
       "      <td>Rikitea</td>\n",
       "      <td>-23.1203</td>\n",
       "      <td>-134.9692</td>\n",
       "      <td>73.47</td>\n",
       "      <td>84</td>\n",
       "      <td>85</td>\n",
       "      <td>15.30</td>\n",
       "      <td>PF</td>\n",
       "      <td>2021-11-11 01:54:12</td>\n",
       "    </tr>\n",
       "    <tr>\n",
       "      <th>3</th>\n",
       "      <td>3</td>\n",
       "      <td>Castro</td>\n",
       "      <td>-24.7911</td>\n",
       "      <td>-50.0119</td>\n",
       "      <td>56.10</td>\n",
       "      <td>97</td>\n",
       "      <td>100</td>\n",
       "      <td>9.13</td>\n",
       "      <td>BR</td>\n",
       "      <td>2021-11-11 01:54:13</td>\n",
       "    </tr>\n",
       "    <tr>\n",
       "      <th>4</th>\n",
       "      <td>4</td>\n",
       "      <td>Busselton</td>\n",
       "      <td>-33.6500</td>\n",
       "      <td>115.3333</td>\n",
       "      <td>66.04</td>\n",
       "      <td>42</td>\n",
       "      <td>4</td>\n",
       "      <td>5.93</td>\n",
       "      <td>AU</td>\n",
       "      <td>2021-11-11 01:54:13</td>\n",
       "    </tr>\n",
       "  </tbody>\n",
       "</table>\n",
       "</div>"
      ],
      "text/plain": [
       "   City_ID           City      Lat       Lng  Max Temp  Humidity  Cloudiness  \\\n",
       "0        0       Zhigansk  66.7697  123.3711     -7.53       100          95   \n",
       "1        1  Mount Gambier -37.8333  140.7667     60.71        63          90   \n",
       "2        2        Rikitea -23.1203 -134.9692     73.47        84          85   \n",
       "3        3         Castro -24.7911  -50.0119     56.10        97         100   \n",
       "4        4      Busselton -33.6500  115.3333     66.04        42           4   \n",
       "\n",
       "   Wind Speed Country                 Date  \n",
       "0        9.69      RU  2021-11-11 01:54:12  \n",
       "1       17.27      AU  2021-11-11 01:54:12  \n",
       "2       15.30      PF  2021-11-11 01:54:12  \n",
       "3        9.13      BR  2021-11-11 01:54:13  \n",
       "4        5.93      AU  2021-11-11 01:54:13  "
      ]
     },
     "execution_count": 2,
     "metadata": {},
     "output_type": "execute_result"
    }
   ],
   "source": [
    "# Store the CSV you saved created in part one into a DataFrame.\n",
    "city_data_df = pd.read_csv(\"weather_data/cities.csv\")\n",
    "city_data_df.head()"
   ]
  },
  {
   "cell_type": "code",
   "execution_count": 3,
   "id": "f6f1b5cd",
   "metadata": {},
   "outputs": [
    {
     "data": {
      "text/plain": [
       "City_ID         int64\n",
       "City           object\n",
       "Lat           float64\n",
       "Lng           float64\n",
       "Max Temp      float64\n",
       "Humidity        int64\n",
       "Cloudiness      int64\n",
       "Wind Speed    float64\n",
       "Country        object\n",
       "Date           object\n",
       "dtype: object"
      ]
     },
     "execution_count": 3,
     "metadata": {},
     "output_type": "execute_result"
    }
   ],
   "source": [
    "city_data_df.dtypes"
   ]
  },
  {
   "cell_type": "code",
   "execution_count": 4,
   "id": "4e1755c2",
   "metadata": {},
   "outputs": [],
   "source": [
    "# Configure gmaps to use your Google API key.\n",
    "gmaps.configure(api_key=g_key)"
   ]
  },
  {
   "cell_type": "code",
   "execution_count": 5,
   "id": "10872cbc",
   "metadata": {},
   "outputs": [],
   "source": [
    "# Remove negative temperatures with for loop. Get the max temp.\n",
    "max_temp = city_data_df[\"Max Temp\"]\n",
    "temps = []\n",
    "for temp in max_temp:\n",
    "    temps.append(max(temp, 0))"
   ]
  },
  {
   "cell_type": "code",
   "execution_count": 6,
   "id": "5fbf6ad7",
   "metadata": {
    "scrolled": true
   },
   "outputs": [
    {
     "data": {
      "application/vnd.jupyter.widget-view+json": {
       "model_id": "6156fa7c7bf74e7ba74d8e17b98ed04b",
       "version_major": 2,
       "version_minor": 0
      },
      "text/plain": [
       "Figure(layout=FigureLayout(height='420px'))"
      ]
     },
     "metadata": {},
     "output_type": "display_data"
    }
   ],
   "source": [
    "# Heatmap of temperature.\n",
    "\n",
    "# 1. Get the latitude and longitude\n",
    "locations = city_data_df[[\"Lat\", \"Lng\"]]\n",
    "# 2. Get the maximum temperature\n",
    "max_temp = city_data_df[\"Max Temp\"]\n",
    "# 3. Assign the figure variable.\n",
    "fig = gmaps.figure()\n",
    "# 4. Assign the heatmap variable to the heatmap_layer attribute and add in locations.\n",
    "heat_layer = gmaps.heatmap_layer(locations, weights=[max(temp, 0) for temp in max_temp])\n",
    "\n",
    "# 5. Add the heatmap layer.\n",
    "fig.add_layer(heat_layer)\n",
    "# 6. Call the figure to plot the data\n",
    "fig"
   ]
  },
  {
   "cell_type": "code",
   "execution_count": 7,
   "id": "5bf7e334",
   "metadata": {
    "scrolled": true
   },
   "outputs": [
    {
     "data": {
      "application/vnd.jupyter.widget-view+json": {
       "model_id": "e32ad8ffb09b4902ae8e673d52150e11",
       "version_major": 2,
       "version_minor": 0
      },
      "text/plain": [
       "Figure(layout=FigureLayout(height='420px'))"
      ]
     },
     "metadata": {},
     "output_type": "display_data"
    }
   ],
   "source": [
    "fig = gmaps.figure(center=(30.0, 31.0), zoom_level=1.5)\n",
    "# Modify gmaps.heat_layer()\n",
    "heat_layer = gmaps.heatmap_layer(locations, \n",
    "                                 weights=temps, \n",
    "                                 dissipating=False,\n",
    "                                 max_intensity=300, point_radius=4)\n",
    "fig.add_layer(heat_layer)\n",
    "fig"
   ]
  },
  {
   "cell_type": "markdown",
   "id": "f83c819c",
   "metadata": {},
   "source": [
    "### Percent Humidity Heatmap ###"
   ]
  },
  {
   "cell_type": "code",
   "execution_count": 8,
   "id": "8db3e583",
   "metadata": {},
   "outputs": [
    {
     "data": {
      "application/vnd.jupyter.widget-view+json": {
       "model_id": "cf5920ab39f346089a3e8627d5486862",
       "version_major": 2,
       "version_minor": 0
      },
      "text/plain": [
       "Figure(layout=FigureLayout(height='420px'))"
      ]
     },
     "metadata": {},
     "output_type": "display_data"
    }
   ],
   "source": [
    "# Heatmap of percent humidity\n",
    "locations = city_data_df[[\"Lat\", \"Lng\"]]\n",
    "humidity = city_data_df[\"Humidity\"]\n",
    "fig = gmaps.figure(center=(30.0, 31.0), zoom_level=1.5)\n",
    "heat_layer = gmaps.heatmap_layer(locations, weights=humidity, dissipating=False, max_intensity=300, point_radius=4)\n",
    "\n",
    "fig.add_layer(heat_layer)\n",
    "# Call the figure to plot the data.\n",
    "fig"
   ]
  },
  {
   "cell_type": "markdown",
   "id": "8039d1fb",
   "metadata": {},
   "source": [
    "### Percent Cloudiness Heatmap ###"
   ]
  },
  {
   "cell_type": "code",
   "execution_count": 9,
   "id": "bb7fabf0",
   "metadata": {},
   "outputs": [
    {
     "data": {
      "application/vnd.jupyter.widget-view+json": {
       "model_id": "7b335933c1fe42cfb4d3945267515b96",
       "version_major": 2,
       "version_minor": 0
      },
      "text/plain": [
       "Figure(layout=FigureLayout(height='420px'))"
      ]
     },
     "metadata": {},
     "output_type": "display_data"
    }
   ],
   "source": [
    "# Heatmap of percent cloudiness\n",
    "locations = city_data_df[[\"Lat\", \"Lng\"]]\n",
    "clouds = city_data_df[\"Cloudiness\"] \n",
    "fig = gmaps.figure(center=(30.0, 31.0), zoom_level=1.5)\n",
    "heat_layer = gmaps.heatmap_layer(locations,weights=clouds,\n",
    "dissipating=False, max_intensity=300, point_radius=4)\n",
    "\n",
    "fig.add_layer(heat_layer)\n",
    "# Call the figure to plot the data.\n",
    "\n",
    "fig"
   ]
  },
  {
   "cell_type": "markdown",
   "id": "c5f02fe6",
   "metadata": {},
   "source": [
    "### Wind Speed Heatmap ###"
   ]
  },
  {
   "cell_type": "code",
   "execution_count": 10,
   "id": "f7db105d",
   "metadata": {},
   "outputs": [
    {
     "data": {
      "application/vnd.jupyter.widget-view+json": {
       "model_id": "a80f30d279664344a8131f91e9f2520c",
       "version_major": 2,
       "version_minor": 0
      },
      "text/plain": [
       "Figure(layout=FigureLayout(height='420px'))"
      ]
     },
     "metadata": {},
     "output_type": "display_data"
    }
   ],
   "source": [
    "# Heatmap of Wind Speed\n",
    "locations = city_data_df[[\"Lat\", \"Lng\"]]\n",
    "wind = city_data_df[\"Wind Speed\"] \n",
    "fig = gmaps.figure(center=(30.0, 31.0), zoom_level=1.5)\n",
    "heat_layer = gmaps.heatmap_layer(locations,weights=wind,\n",
    "dissipating=False, max_intensity=300, point_radius=4)\n",
    "\n",
    "fig.add_layer(heat_layer)\n",
    "# Call the figure to plot the data.\n",
    "\n",
    "fig"
   ]
  },
  {
   "cell_type": "code",
   "execution_count": 15,
   "id": "830461f8",
   "metadata": {},
   "outputs": [
    {
     "name": "stdout",
     "output_type": "stream",
     "text": [
      "What is the minimum temperature you would like for your trip? 75\n",
      "What is the maximum temperature you would like for your trip? 90\n"
     ]
    }
   ],
   "source": [
    "# Ask the customer to add a minimum and maximum temperature value.\n",
    "min_temp = float(input(\"What is the minimum temperature you would like for your trip? \"))\n",
    "max_temp = float(input(\"What is the maximum temperature you would like for your trip? \"))"
   ]
  },
  {
   "cell_type": "code",
   "execution_count": 16,
   "id": "dfcb947d",
   "metadata": {},
   "outputs": [
    {
     "data": {
      "text/html": [
       "<div>\n",
       "<style scoped>\n",
       "    .dataframe tbody tr th:only-of-type {\n",
       "        vertical-align: middle;\n",
       "    }\n",
       "\n",
       "    .dataframe tbody tr th {\n",
       "        vertical-align: top;\n",
       "    }\n",
       "\n",
       "    .dataframe thead th {\n",
       "        text-align: right;\n",
       "    }\n",
       "</style>\n",
       "<table border=\"1\" class=\"dataframe\">\n",
       "  <thead>\n",
       "    <tr style=\"text-align: right;\">\n",
       "      <th></th>\n",
       "      <th>City_ID</th>\n",
       "      <th>City</th>\n",
       "      <th>Lat</th>\n",
       "      <th>Lng</th>\n",
       "      <th>Max Temp</th>\n",
       "      <th>Humidity</th>\n",
       "      <th>Cloudiness</th>\n",
       "      <th>Wind Speed</th>\n",
       "      <th>Country</th>\n",
       "      <th>Date</th>\n",
       "    </tr>\n",
       "  </thead>\n",
       "  <tbody>\n",
       "    <tr>\n",
       "      <th>7</th>\n",
       "      <td>7</td>\n",
       "      <td>Atuona</td>\n",
       "      <td>-9.8000</td>\n",
       "      <td>-139.0333</td>\n",
       "      <td>78.03</td>\n",
       "      <td>74</td>\n",
       "      <td>8</td>\n",
       "      <td>15.03</td>\n",
       "      <td>PF</td>\n",
       "      <td>2021-11-11 01:54:15</td>\n",
       "    </tr>\n",
       "    <tr>\n",
       "      <th>9</th>\n",
       "      <td>9</td>\n",
       "      <td>Carnarvon</td>\n",
       "      <td>-24.8667</td>\n",
       "      <td>113.6333</td>\n",
       "      <td>78.87</td>\n",
       "      <td>25</td>\n",
       "      <td>0</td>\n",
       "      <td>17.27</td>\n",
       "      <td>AU</td>\n",
       "      <td>2021-11-11 01:54:16</td>\n",
       "    </tr>\n",
       "    <tr>\n",
       "      <th>13</th>\n",
       "      <td>13</td>\n",
       "      <td>Georgetown</td>\n",
       "      <td>5.4112</td>\n",
       "      <td>100.3354</td>\n",
       "      <td>82.33</td>\n",
       "      <td>85</td>\n",
       "      <td>20</td>\n",
       "      <td>3.00</td>\n",
       "      <td>MY</td>\n",
       "      <td>2021-11-11 01:54:19</td>\n",
       "    </tr>\n",
       "    <tr>\n",
       "      <th>14</th>\n",
       "      <td>14</td>\n",
       "      <td>Butaritari</td>\n",
       "      <td>3.0707</td>\n",
       "      <td>172.7902</td>\n",
       "      <td>83.03</td>\n",
       "      <td>68</td>\n",
       "      <td>10</td>\n",
       "      <td>15.19</td>\n",
       "      <td>KI</td>\n",
       "      <td>2021-11-11 01:54:19</td>\n",
       "    </tr>\n",
       "    <tr>\n",
       "      <th>25</th>\n",
       "      <td>25</td>\n",
       "      <td>Bourail</td>\n",
       "      <td>-21.5667</td>\n",
       "      <td>165.4833</td>\n",
       "      <td>86.59</td>\n",
       "      <td>51</td>\n",
       "      <td>32</td>\n",
       "      <td>6.29</td>\n",
       "      <td>NC</td>\n",
       "      <td>2021-11-11 01:54:25</td>\n",
       "    </tr>\n",
       "    <tr>\n",
       "      <th>26</th>\n",
       "      <td>26</td>\n",
       "      <td>Sao Filipe</td>\n",
       "      <td>14.8961</td>\n",
       "      <td>-24.4956</td>\n",
       "      <td>76.17</td>\n",
       "      <td>76</td>\n",
       "      <td>20</td>\n",
       "      <td>7.70</td>\n",
       "      <td>CV</td>\n",
       "      <td>2021-11-11 01:54:25</td>\n",
       "    </tr>\n",
       "    <tr>\n",
       "      <th>32</th>\n",
       "      <td>32</td>\n",
       "      <td>Hobyo</td>\n",
       "      <td>5.3505</td>\n",
       "      <td>48.5268</td>\n",
       "      <td>79.99</td>\n",
       "      <td>73</td>\n",
       "      <td>100</td>\n",
       "      <td>10.27</td>\n",
       "      <td>SO</td>\n",
       "      <td>2021-11-11 01:54:29</td>\n",
       "    </tr>\n",
       "    <tr>\n",
       "      <th>33</th>\n",
       "      <td>33</td>\n",
       "      <td>Dingle</td>\n",
       "      <td>10.9995</td>\n",
       "      <td>122.6711</td>\n",
       "      <td>84.00</td>\n",
       "      <td>76</td>\n",
       "      <td>98</td>\n",
       "      <td>12.46</td>\n",
       "      <td>PH</td>\n",
       "      <td>2021-11-11 01:54:29</td>\n",
       "    </tr>\n",
       "    <tr>\n",
       "      <th>34</th>\n",
       "      <td>34</td>\n",
       "      <td>Bilma</td>\n",
       "      <td>18.6853</td>\n",
       "      <td>12.9164</td>\n",
       "      <td>75.61</td>\n",
       "      <td>15</td>\n",
       "      <td>0</td>\n",
       "      <td>5.01</td>\n",
       "      <td>NE</td>\n",
       "      <td>2021-11-11 01:54:29</td>\n",
       "    </tr>\n",
       "    <tr>\n",
       "      <th>36</th>\n",
       "      <td>36</td>\n",
       "      <td>Mataura</td>\n",
       "      <td>-46.1927</td>\n",
       "      <td>168.8643</td>\n",
       "      <td>75.42</td>\n",
       "      <td>41</td>\n",
       "      <td>100</td>\n",
       "      <td>4.43</td>\n",
       "      <td>NZ</td>\n",
       "      <td>2021-11-11 01:54:30</td>\n",
       "    </tr>\n",
       "  </tbody>\n",
       "</table>\n",
       "</div>"
      ],
      "text/plain": [
       "    City_ID        City      Lat       Lng  Max Temp  Humidity  Cloudiness  \\\n",
       "7         7      Atuona  -9.8000 -139.0333     78.03        74           8   \n",
       "9         9   Carnarvon -24.8667  113.6333     78.87        25           0   \n",
       "13       13  Georgetown   5.4112  100.3354     82.33        85          20   \n",
       "14       14  Butaritari   3.0707  172.7902     83.03        68          10   \n",
       "25       25     Bourail -21.5667  165.4833     86.59        51          32   \n",
       "26       26  Sao Filipe  14.8961  -24.4956     76.17        76          20   \n",
       "32       32       Hobyo   5.3505   48.5268     79.99        73         100   \n",
       "33       33      Dingle  10.9995  122.6711     84.00        76          98   \n",
       "34       34       Bilma  18.6853   12.9164     75.61        15           0   \n",
       "36       36     Mataura -46.1927  168.8643     75.42        41         100   \n",
       "\n",
       "    Wind Speed Country                 Date  \n",
       "7        15.03      PF  2021-11-11 01:54:15  \n",
       "9        17.27      AU  2021-11-11 01:54:16  \n",
       "13        3.00      MY  2021-11-11 01:54:19  \n",
       "14       15.19      KI  2021-11-11 01:54:19  \n",
       "25        6.29      NC  2021-11-11 01:54:25  \n",
       "26        7.70      CV  2021-11-11 01:54:25  \n",
       "32       10.27      SO  2021-11-11 01:54:29  \n",
       "33       12.46      PH  2021-11-11 01:54:29  \n",
       "34        5.01      NE  2021-11-11 01:54:29  \n",
       "36        4.43      NZ  2021-11-11 01:54:30  "
      ]
     },
     "execution_count": 16,
     "metadata": {},
     "output_type": "execute_result"
    }
   ],
   "source": [
    "# Filter the dataset to find the cities that fit the criteria.\n",
    "preferred_cities_df = city_data_df.loc[(city_data_df[\"Max Temp\"] <= max_temp) & \\\n",
    "                                       (city_data_df[\"Max Temp\"] >= min_temp)]\n",
    "preferred_cities_df.head(10)"
   ]
  },
  {
   "cell_type": "code",
   "execution_count": 17,
   "id": "2045b355",
   "metadata": {
    "scrolled": true
   },
   "outputs": [
    {
     "data": {
      "text/plain": [
       "City_ID       117\n",
       "City          117\n",
       "Lat           117\n",
       "Lng           117\n",
       "Max Temp      117\n",
       "Humidity      117\n",
       "Cloudiness    117\n",
       "Wind Speed    117\n",
       "Country       117\n",
       "Date          117\n",
       "dtype: int64"
      ]
     },
     "execution_count": 17,
     "metadata": {},
     "output_type": "execute_result"
    }
   ],
   "source": [
    "#determinate if there is ant null values\n",
    "preferred_cities_df.count()"
   ]
  },
  {
   "cell_type": "markdown",
   "id": "1466ec10",
   "metadata": {},
   "source": [
    "### Map Vacation Criteria ###"
   ]
  },
  {
   "cell_type": "code",
   "execution_count": 18,
   "id": "d4bca44b",
   "metadata": {},
   "outputs": [
    {
     "data": {
      "text/html": [
       "<div>\n",
       "<style scoped>\n",
       "    .dataframe tbody tr th:only-of-type {\n",
       "        vertical-align: middle;\n",
       "    }\n",
       "\n",
       "    .dataframe tbody tr th {\n",
       "        vertical-align: top;\n",
       "    }\n",
       "\n",
       "    .dataframe thead th {\n",
       "        text-align: right;\n",
       "    }\n",
       "</style>\n",
       "<table border=\"1\" class=\"dataframe\">\n",
       "  <thead>\n",
       "    <tr style=\"text-align: right;\">\n",
       "      <th></th>\n",
       "      <th>City</th>\n",
       "      <th>Country</th>\n",
       "      <th>Max Temp</th>\n",
       "      <th>Lat</th>\n",
       "      <th>Lng</th>\n",
       "      <th>Hotel Name</th>\n",
       "    </tr>\n",
       "  </thead>\n",
       "  <tbody>\n",
       "    <tr>\n",
       "      <th>7</th>\n",
       "      <td>Atuona</td>\n",
       "      <td>PF</td>\n",
       "      <td>78.03</td>\n",
       "      <td>-9.8000</td>\n",
       "      <td>-139.0333</td>\n",
       "      <td></td>\n",
       "    </tr>\n",
       "    <tr>\n",
       "      <th>9</th>\n",
       "      <td>Carnarvon</td>\n",
       "      <td>AU</td>\n",
       "      <td>78.87</td>\n",
       "      <td>-24.8667</td>\n",
       "      <td>113.6333</td>\n",
       "      <td></td>\n",
       "    </tr>\n",
       "    <tr>\n",
       "      <th>13</th>\n",
       "      <td>Georgetown</td>\n",
       "      <td>MY</td>\n",
       "      <td>82.33</td>\n",
       "      <td>5.4112</td>\n",
       "      <td>100.3354</td>\n",
       "      <td></td>\n",
       "    </tr>\n",
       "    <tr>\n",
       "      <th>14</th>\n",
       "      <td>Butaritari</td>\n",
       "      <td>KI</td>\n",
       "      <td>83.03</td>\n",
       "      <td>3.0707</td>\n",
       "      <td>172.7902</td>\n",
       "      <td></td>\n",
       "    </tr>\n",
       "    <tr>\n",
       "      <th>25</th>\n",
       "      <td>Bourail</td>\n",
       "      <td>NC</td>\n",
       "      <td>86.59</td>\n",
       "      <td>-21.5667</td>\n",
       "      <td>165.4833</td>\n",
       "      <td></td>\n",
       "    </tr>\n",
       "    <tr>\n",
       "      <th>26</th>\n",
       "      <td>Sao Filipe</td>\n",
       "      <td>CV</td>\n",
       "      <td>76.17</td>\n",
       "      <td>14.8961</td>\n",
       "      <td>-24.4956</td>\n",
       "      <td></td>\n",
       "    </tr>\n",
       "    <tr>\n",
       "      <th>32</th>\n",
       "      <td>Hobyo</td>\n",
       "      <td>SO</td>\n",
       "      <td>79.99</td>\n",
       "      <td>5.3505</td>\n",
       "      <td>48.5268</td>\n",
       "      <td></td>\n",
       "    </tr>\n",
       "    <tr>\n",
       "      <th>33</th>\n",
       "      <td>Dingle</td>\n",
       "      <td>PH</td>\n",
       "      <td>84.00</td>\n",
       "      <td>10.9995</td>\n",
       "      <td>122.6711</td>\n",
       "      <td></td>\n",
       "    </tr>\n",
       "    <tr>\n",
       "      <th>34</th>\n",
       "      <td>Bilma</td>\n",
       "      <td>NE</td>\n",
       "      <td>75.61</td>\n",
       "      <td>18.6853</td>\n",
       "      <td>12.9164</td>\n",
       "      <td></td>\n",
       "    </tr>\n",
       "    <tr>\n",
       "      <th>36</th>\n",
       "      <td>Mataura</td>\n",
       "      <td>NZ</td>\n",
       "      <td>75.42</td>\n",
       "      <td>-46.1927</td>\n",
       "      <td>168.8643</td>\n",
       "      <td></td>\n",
       "    </tr>\n",
       "  </tbody>\n",
       "</table>\n",
       "</div>"
      ],
      "text/plain": [
       "          City Country  Max Temp      Lat       Lng Hotel Name\n",
       "7       Atuona      PF     78.03  -9.8000 -139.0333           \n",
       "9    Carnarvon      AU     78.87 -24.8667  113.6333           \n",
       "13  Georgetown      MY     82.33   5.4112  100.3354           \n",
       "14  Butaritari      KI     83.03   3.0707  172.7902           \n",
       "25     Bourail      NC     86.59 -21.5667  165.4833           \n",
       "26  Sao Filipe      CV     76.17  14.8961  -24.4956           \n",
       "32       Hobyo      SO     79.99   5.3505   48.5268           \n",
       "33      Dingle      PH     84.00  10.9995  122.6711           \n",
       "34       Bilma      NE     75.61  18.6853   12.9164           \n",
       "36     Mataura      NZ     75.42 -46.1927  168.8643           "
      ]
     },
     "execution_count": 18,
     "metadata": {},
     "output_type": "execute_result"
    }
   ],
   "source": [
    "# Create DataFrame called hotel_df to store hotel names along with city, country, max temp, and coordinates.\n",
    "hotel_df = preferred_cities_df[[\"City\", \"Country\", \"Max Temp\", \"Lat\", \"Lng\"]].copy()\n",
    "hotel_df[\"Hotel Name\"] = \"\"\n",
    "hotel_df.head(10)"
   ]
  },
  {
   "cell_type": "code",
   "execution_count": 24,
   "id": "7a349898",
   "metadata": {},
   "outputs": [
    {
     "name": "stdout",
     "output_type": "stream",
     "text": [
      "Hotel not found... skipping.\n",
      "Hotel not found... skipping.\n",
      "Hotel not found... skipping.\n",
      "Hotel not found... skipping.\n"
     ]
    }
   ],
   "source": [
    "# Set parameters to search for a hotel.\n",
    "params = {\n",
    "    \"radius\": 5000,\n",
    "    \"type\": \"lodging\",\n",
    "    \"key\" : g_key\n",
    "}\n",
    "\n",
    "# Iterate through the DataFrame.\n",
    "for index, row in hotel_df.iterrows():\n",
    "    # Get the latitude and longitude.\n",
    "    lat = row[\"Lat\"]\n",
    "    lng = row[\"Lng\"]\n",
    "    \n",
    "    # Add the latitude and longitude to location key for the params dictionary.\n",
    "    params[\"location\"] = f\"{lat}, {lng}\"\n",
    "    \n",
    "    # Use the search term: \"lodging\" and our latitude and longitude.\n",
    "    base_url = \"https://maps.googleapis.com/maps/api/place/nearbysearch/json\"\n",
    "    # Make request and get the JSON data from the search.\n",
    "    hotels = requests.get(base_url, params=params).json()\n",
    "    # Grab the first hotel from the results and store the name.\n",
    "    try:\n",
    "        hotel_df.loc[index, \"Hotel Name\"] = hotels[\"results\"][0][\"name\"]\n",
    "    except (IndexError):\n",
    "        print(\"Hotel not found... skipping.\")"
   ]
  },
  {
   "cell_type": "code",
   "execution_count": 25,
   "id": "4ae2dd42",
   "metadata": {},
   "outputs": [
    {
     "data": {
      "text/html": [
       "<div>\n",
       "<style scoped>\n",
       "    .dataframe tbody tr th:only-of-type {\n",
       "        vertical-align: middle;\n",
       "    }\n",
       "\n",
       "    .dataframe tbody tr th {\n",
       "        vertical-align: top;\n",
       "    }\n",
       "\n",
       "    .dataframe thead th {\n",
       "        text-align: right;\n",
       "    }\n",
       "</style>\n",
       "<table border=\"1\" class=\"dataframe\">\n",
       "  <thead>\n",
       "    <tr style=\"text-align: right;\">\n",
       "      <th></th>\n",
       "      <th>City</th>\n",
       "      <th>Country</th>\n",
       "      <th>Max Temp</th>\n",
       "      <th>Lat</th>\n",
       "      <th>Lng</th>\n",
       "      <th>Hotel Name</th>\n",
       "    </tr>\n",
       "  </thead>\n",
       "  <tbody>\n",
       "    <tr>\n",
       "      <th>7</th>\n",
       "      <td>Atuona</td>\n",
       "      <td>PF</td>\n",
       "      <td>78.03</td>\n",
       "      <td>-9.8000</td>\n",
       "      <td>-139.0333</td>\n",
       "      <td>Villa Enata</td>\n",
       "    </tr>\n",
       "    <tr>\n",
       "      <th>9</th>\n",
       "      <td>Carnarvon</td>\n",
       "      <td>AU</td>\n",
       "      <td>78.87</td>\n",
       "      <td>-24.8667</td>\n",
       "      <td>113.6333</td>\n",
       "      <td>Hospitality Carnarvon</td>\n",
       "    </tr>\n",
       "    <tr>\n",
       "      <th>13</th>\n",
       "      <td>Georgetown</td>\n",
       "      <td>MY</td>\n",
       "      <td>82.33</td>\n",
       "      <td>5.4112</td>\n",
       "      <td>100.3354</td>\n",
       "      <td>Cititel Penang</td>\n",
       "    </tr>\n",
       "    <tr>\n",
       "      <th>14</th>\n",
       "      <td>Butaritari</td>\n",
       "      <td>KI</td>\n",
       "      <td>83.03</td>\n",
       "      <td>3.0707</td>\n",
       "      <td>172.7902</td>\n",
       "      <td>Isles Sunset Lodge</td>\n",
       "    </tr>\n",
       "    <tr>\n",
       "      <th>25</th>\n",
       "      <td>Bourail</td>\n",
       "      <td>NC</td>\n",
       "      <td>86.59</td>\n",
       "      <td>-21.5667</td>\n",
       "      <td>165.4833</td>\n",
       "      <td>Motel Allamanda</td>\n",
       "    </tr>\n",
       "    <tr>\n",
       "      <th>26</th>\n",
       "      <td>Sao Filipe</td>\n",
       "      <td>CV</td>\n",
       "      <td>76.17</td>\n",
       "      <td>14.8961</td>\n",
       "      <td>-24.4956</td>\n",
       "      <td>Hotel Xaguate</td>\n",
       "    </tr>\n",
       "    <tr>\n",
       "      <th>32</th>\n",
       "      <td>Hobyo</td>\n",
       "      <td>SO</td>\n",
       "      <td>79.99</td>\n",
       "      <td>5.3505</td>\n",
       "      <td>48.5268</td>\n",
       "      <td>Halane Hotel and Restaurent</td>\n",
       "    </tr>\n",
       "    <tr>\n",
       "      <th>33</th>\n",
       "      <td>Dingle</td>\n",
       "      <td>PH</td>\n",
       "      <td>84.00</td>\n",
       "      <td>10.9995</td>\n",
       "      <td>122.6711</td>\n",
       "      <td>SEGAYA PROPERTY</td>\n",
       "    </tr>\n",
       "    <tr>\n",
       "      <th>34</th>\n",
       "      <td>Bilma</td>\n",
       "      <td>NE</td>\n",
       "      <td>75.61</td>\n",
       "      <td>18.6853</td>\n",
       "      <td>12.9164</td>\n",
       "      <td>Expeditions Ténére voyages</td>\n",
       "    </tr>\n",
       "    <tr>\n",
       "      <th>36</th>\n",
       "      <td>Mataura</td>\n",
       "      <td>NZ</td>\n",
       "      <td>75.42</td>\n",
       "      <td>-46.1927</td>\n",
       "      <td>168.8643</td>\n",
       "      <td>Ellie's Villa</td>\n",
       "    </tr>\n",
       "  </tbody>\n",
       "</table>\n",
       "</div>"
      ],
      "text/plain": [
       "          City Country  Max Temp      Lat       Lng  \\\n",
       "7       Atuona      PF     78.03  -9.8000 -139.0333   \n",
       "9    Carnarvon      AU     78.87 -24.8667  113.6333   \n",
       "13  Georgetown      MY     82.33   5.4112  100.3354   \n",
       "14  Butaritari      KI     83.03   3.0707  172.7902   \n",
       "25     Bourail      NC     86.59 -21.5667  165.4833   \n",
       "26  Sao Filipe      CV     76.17  14.8961  -24.4956   \n",
       "32       Hobyo      SO     79.99   5.3505   48.5268   \n",
       "33      Dingle      PH     84.00  10.9995  122.6711   \n",
       "34       Bilma      NE     75.61  18.6853   12.9164   \n",
       "36     Mataura      NZ     75.42 -46.1927  168.8643   \n",
       "\n",
       "                     Hotel Name  \n",
       "7                   Villa Enata  \n",
       "9         Hospitality Carnarvon  \n",
       "13               Cititel Penang  \n",
       "14           Isles Sunset Lodge  \n",
       "25              Motel Allamanda  \n",
       "26                Hotel Xaguate  \n",
       "32  Halane Hotel and Restaurent  \n",
       "33              SEGAYA PROPERTY  \n",
       "34   Expeditions Ténére voyages  \n",
       "36                Ellie's Villa  "
      ]
     },
     "execution_count": 25,
     "metadata": {},
     "output_type": "execute_result"
    }
   ],
   "source": [
    "hotel_df.head(10)"
   ]
  },
  {
   "cell_type": "code",
   "execution_count": 27,
   "id": "f4f9a8ab",
   "metadata": {},
   "outputs": [
    {
     "data": {
      "application/vnd.jupyter.widget-view+json": {
       "model_id": "894188312f7b4dfab449489cc14620af",
       "version_major": 2,
       "version_minor": 0
      },
      "text/plain": [
       "Figure(layout=FigureLayout(height='420px'))"
      ]
     },
     "metadata": {},
     "output_type": "display_data"
    }
   ],
   "source": [
    "# Add a heatmap of temperature for the vacation spots and marker for each city.\n",
    "locations = hotel_df[[\"Lat\", \"Lng\"]]\n",
    "max_temp = hotel_df[\"Max Temp\"]\n",
    "fig = gmaps.figure(center=(30.0, 31.0), zoom_level=1.5)\n",
    "heat_layer = gmaps.heatmap_layer(locations, weights=max_temp,\n",
    "             dissipating=False, max_intensity=300, point_radius=4)\n",
    "marker_layer = gmaps.marker_layer(locations)\n",
    "fig.add_layer(heat_layer)\n",
    "fig.add_layer(marker_layer)\n",
    "# Call the figure to plot the data.\n",
    "fig"
   ]
  },
  {
   "cell_type": "code",
   "execution_count": 28,
   "id": "8977023f",
   "metadata": {},
   "outputs": [],
   "source": [
    "info_box_template = \"\"\"\n",
    "<dl>\n",
    "<dt>Name</dt><dd>{column1}</dd>\n",
    "<dt>Another name</dt><dd>{column2}</dd>\n",
    "</dl>\n",
    "\"\"\""
   ]
  },
  {
   "cell_type": "code",
   "execution_count": 29,
   "id": "95e09768",
   "metadata": {},
   "outputs": [],
   "source": [
    "info_box_template = \"\"\"\n",
    "<dl>\n",
    "<dt>Hotel Name</dt><dd>{Hotel Name}</dd>\n",
    "<dt>City</dt><dd>{City}</dd>\n",
    "<dt>Country</dt><dd>{Country}</dd>\n",
    "<dt>Max Temp</dt><dd>{Max Temp} °F</dd>\n",
    "</dl>\n",
    "\"\"\""
   ]
  },
  {
   "cell_type": "code",
   "execution_count": 30,
   "id": "e2d8ada5",
   "metadata": {},
   "outputs": [],
   "source": [
    "#  Store the DataFrame Row.\n",
    "hotel_info = [info_box_template.format(**row) for index, row in hotel_df.iterrows()]"
   ]
  },
  {
   "cell_type": "code",
   "execution_count": 31,
   "id": "5ffdea6e",
   "metadata": {},
   "outputs": [
    {
     "data": {
      "application/vnd.jupyter.widget-view+json": {
       "model_id": "0c41aba83a1e4a18af55341e0637fe75",
       "version_major": 2,
       "version_minor": 0
      },
      "text/plain": [
       "Figure(layout=FigureLayout(height='420px'))"
      ]
     },
     "metadata": {},
     "output_type": "display_data"
    }
   ],
   "source": [
    "# Add a heatmap of temperature for the vacation spots and a pop-up marker for each city.\n",
    "locations = hotel_df[[\"Lat\", \"Lng\"]]\n",
    "max_temp = hotel_df[\"Max Temp\"]\n",
    "fig = gmaps.figure(center=(30.0, 31.0), zoom_level=1.5)\n",
    "heat_layer = gmaps.heatmap_layer(locations, weights=max_temp,dissipating=False,\n",
    "             max_intensity=300, point_radius=4)\n",
    "marker_layer = gmaps.marker_layer(locations, info_box_content=hotel_info)\n",
    "fig.add_layer(heat_layer)\n",
    "fig.add_layer(marker_layer)\n",
    "\n",
    "# Call the figure to plot the data.\n",
    "fig"
   ]
  },
  {
   "cell_type": "code",
   "execution_count": null,
   "id": "e78e043a",
   "metadata": {},
   "outputs": [],
   "source": []
  }
 ],
 "metadata": {
  "kernelspec": {
   "display_name": "PythonData",
   "language": "python",
   "name": "pythondata"
  },
  "language_info": {
   "codemirror_mode": {
    "name": "ipython",
    "version": 3
   },
   "file_extension": ".py",
   "mimetype": "text/x-python",
   "name": "python",
   "nbconvert_exporter": "python",
   "pygments_lexer": "ipython3",
   "version": "3.7.10"
  }
 },
 "nbformat": 4,
 "nbformat_minor": 5
}
